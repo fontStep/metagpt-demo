{
 "cells": [
  {
   "cell_type": "code",
   "execution_count": 11,
   "metadata": {},
   "outputs": [
    {
     "name": "stdout",
     "output_type": "stream",
     "text": [
      "result: Unfortunately, I was not able to get your answers, because of the following error:\n",
      "\n",
      "Type has not been implemented\n",
      "\n"
     ]
    }
   ],
   "source": [
    "import pandas as pd\n",
    "import requests\n",
    "import json\n",
    "from pandasai import SmartDataframe\n",
    "from pandasai.llm import LLM\n",
    "\n",
    "# 自定义智普AI LLM 类\n",
    "class ZhipuAILLM(LLM):\n",
    "    def __init__(self, api_key):\n",
    "        self.api_key = api_key\n",
    "        self.url = \"https://open.bigmodel.cn/api/paas/v4/chat/completions\"\n",
    "\n",
    "    def call(self, prompt):\n",
    "        headers = {\n",
    "            \"Authorization\": f\"Bearer {self.api_key}\",\n",
    "            \"Content-Type\": \"application/json\"\n",
    "        }\n",
    "        payload = {\n",
    "            \"model\": \"glm-4\",\n",
    "            \"messages\": [\n",
    "                {\"role\": \"system\", \"content\": \"你是一个数据分析助手，能够解析用户查询并生成 Pandas 操作。\"},\n",
    "                {\"role\": \"user\", \"content\": prompt}\n",
    "            ]\n",
    "        }\n",
    "        response = requests.post(self.url, headers=headers, data=json.dumps(payload))\n",
    "        response_data = response.json()\n",
    "        return response_data[\"choices\"][0][\"message\"][\"content\"]\n",
    "\n",
    "# 示例数据\n",
    "data = {\n",
    "    \"名称\": [\"苹果\", \"香蕉\", \"橙子\"],\n",
    "    \"价格\": [10, 5, 8],\n",
    "    \"库存\": [100, 200, 150]\n",
    "}\n",
    "df = pd.DataFrame(data)\n",
    "\n",
    "# 使用自定义的智普AI LLM\n",
    "zhipuai_llm = ZhipuAILLM(api_key=\"758ee89fba80a0e291d931ded2260d55.0iGKWSnQHoLblp37\")\n",
    "pandas_ai = SmartDataframe(df, config={\"llm\": zhipuai_llm})\n",
    "\n",
    "# 用户查询\n",
    "result = pandas_ai.chat(\"哪种水果最贵？\")\n",
    "print(\"result:\",result)"
   ]
  }
 ],
 "metadata": {
  "kernelspec": {
   "display_name": "py310",
   "language": "python",
   "name": "python3"
  },
  "language_info": {
   "codemirror_mode": {
    "name": "ipython",
    "version": 3
   },
   "file_extension": ".py",
   "mimetype": "text/x-python",
   "name": "python",
   "nbconvert_exporter": "python",
   "pygments_lexer": "ipython3",
   "version": "3.10.14"
  }
 },
 "nbformat": 4,
 "nbformat_minor": 2
}
